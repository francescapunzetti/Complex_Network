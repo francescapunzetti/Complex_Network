{
 "cells": [
  {
   "cell_type": "code",
   "execution_count": null,
   "metadata": {},
   "outputs": [],
   "source": [
    "import pandas as pd\n",
    "from sklearn import tree\n",
    "import matplotlib.pyplot as plt\n",
    "\n",
    "# Load the CSV file into a Pandas DataFrame\n",
    "df = pd.read_excel('Pat05 2.0/centrality values pat5.xlsx', sheet_name='Train')\n",
    "\n",
    "# Split the data into features (X) and target (y)\n",
    "row_deleted = ['Nodes', 'Type', 'ext']\n",
    "X = df.drop(row_deleted, axis=1)\n",
    "y = df['Type']\n",
    "# Train a decision tree classifier\n",
    "clf = tree.DecisionTreeClassifier(random_state=0)\n",
    "clf.fit(X, y)\n",
    "fig, ax = plt.subplots(figsize=(10, 40))\n",
    "tree.plot_tree(clf, \n",
    "          feature_names=['Degree', 'Closeness', 'Betweenness', 'Ext n%', 'Ext n', 'Strength', 'Eigenvector', 'Page Rank'], \n",
    "          #class_names= ['1','2','3'],\n",
    "          label = None,\n",
    "          ax = ax,\n",
    "          impurity = False, fontsize=6)\n",
    "# Plot the decision tree\n",
    "plt.show()"
   ]
  }
 ],
 "metadata": {
  "language_info": {
   "name": "python"
  },
  "orig_nbformat": 4
 },
 "nbformat": 4,
 "nbformat_minor": 2
}
